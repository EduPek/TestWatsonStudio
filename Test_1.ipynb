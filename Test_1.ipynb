{
    "cells": [
        {
            "metadata": {
                "collapsed": true
            },
            "cell_type": "markdown",
            "source": "## Teste ##"
        },
        {
            "metadata": {},
            "cell_type": "code",
            "source": "\nimport types\nimport pandas as pd\nfrom botocore.client import Config\nimport ibm_boto3\n\ndef __iter__(self): return 0\n\n# @hidden_cell\n# The following code accesses a file in your IBM Cloud Object Storage. It includes your credentials.\n# You might want to remove those credentials before you share the notebook.\nclient_1424faa5261e4862b86a24b95d5c6553 = ibm_boto3.client(service_name='s3',\n    ibm_api_key_id='zzzzzzzzzzzzzz',\n    ibm_auth_endpoint=\"https://iam.cloud.ibm.com/oidc/token\",\n    config=Config(signature_version='oauth'),\n    endpoint_url='https://s3-api.us-geo.objectstorage.service.networklayer.com')\n\nbody = client_1424faa5261e4862b86a24b95d5c6553.get_object(Bucket='test-donotdelete-pr-l1nmgmifkceowp',Key='level_2_br_16.csv')['Body']\n# add missing __iter__ method, so pandas accepts body as file-like object\nif not hasattr(body, \"__iter__\"): body.__iter__ = types.MethodType( __iter__, body )\n\ndf_data_1 = pd.read_csv(body)\ndf_data_1.head()\n",
            "execution_count": 3,
            "outputs": [
                {
                    "output_type": "execute_result",
                    "execution_count": 3,
                    "data": {
                        "text/plain": "   name_0  name_1  name_2 id_0  id_1  id_2  mobilitychange        date\n0  Brazil  Paran\u00e1  \u00c2ngulo   br    16  2761          0.4897  2020-03-01\n1  Brazil  Paran\u00e1  \u00c2ngulo   br    16  2761          0.0000  2020-03-02\n2  Brazil  Paran\u00e1  \u00c2ngulo   br    16  2761          0.5591  2020-03-03\n3  Brazil  Paran\u00e1  \u00c2ngulo   br    16  2761          0.6698  2020-03-04\n4  Brazil  Paran\u00e1  \u00c2ngulo   br    16  2761          0.6811  2020-03-05",
                        "text/html": "<div>\n<style scoped>\n    .dataframe tbody tr th:only-of-type {\n        vertical-align: middle;\n    }\n\n    .dataframe tbody tr th {\n        vertical-align: top;\n    }\n\n    .dataframe thead th {\n        text-align: right;\n    }\n</style>\n<table border=\"1\" class=\"dataframe\">\n  <thead>\n    <tr style=\"text-align: right;\">\n      <th></th>\n      <th>name_0</th>\n      <th>name_1</th>\n      <th>name_2</th>\n      <th>id_0</th>\n      <th>id_1</th>\n      <th>id_2</th>\n      <th>mobilitychange</th>\n      <th>date</th>\n    </tr>\n  </thead>\n  <tbody>\n    <tr>\n      <th>0</th>\n      <td>Brazil</td>\n      <td>Paran\u00e1</td>\n      <td>\u00c2ngulo</td>\n      <td>br</td>\n      <td>16</td>\n      <td>2761</td>\n      <td>0.4897</td>\n      <td>2020-03-01</td>\n    </tr>\n    <tr>\n      <th>1</th>\n      <td>Brazil</td>\n      <td>Paran\u00e1</td>\n      <td>\u00c2ngulo</td>\n      <td>br</td>\n      <td>16</td>\n      <td>2761</td>\n      <td>0.0000</td>\n      <td>2020-03-02</td>\n    </tr>\n    <tr>\n      <th>2</th>\n      <td>Brazil</td>\n      <td>Paran\u00e1</td>\n      <td>\u00c2ngulo</td>\n      <td>br</td>\n      <td>16</td>\n      <td>2761</td>\n      <td>0.5591</td>\n      <td>2020-03-03</td>\n    </tr>\n    <tr>\n      <th>3</th>\n      <td>Brazil</td>\n      <td>Paran\u00e1</td>\n      <td>\u00c2ngulo</td>\n      <td>br</td>\n      <td>16</td>\n      <td>2761</td>\n      <td>0.6698</td>\n      <td>2020-03-04</td>\n    </tr>\n    <tr>\n      <th>4</th>\n      <td>Brazil</td>\n      <td>Paran\u00e1</td>\n      <td>\u00c2ngulo</td>\n      <td>br</td>\n      <td>16</td>\n      <td>2761</td>\n      <td>0.6811</td>\n      <td>2020-03-05</td>\n    </tr>\n  </tbody>\n</table>\n</div>"
                    },
                    "metadata": {}
                }
            ]
        },
        {
            "metadata": {},
            "cell_type": "code",
            "source": "df_data_1.date",
            "execution_count": 4,
            "outputs": [
                {
                    "output_type": "execute_result",
                    "execution_count": 4,
                    "data": {
                        "text/plain": "0        2020-03-01\n1        2020-03-02\n2        2020-03-03\n3        2020-03-04\n4        2020-03-05\n            ...    \n98638    2020-10-28\n98639    2020-10-29\n98640    2020-10-30\n98641    2020-10-31\n98642    2020-11-01\nName: date, Length: 98643, dtype: object"
                    },
                    "metadata": {}
                }
            ]
        },
        {
            "metadata": {},
            "cell_type": "code",
            "source": "",
            "execution_count": null,
            "outputs": []
        }
    ],
    "metadata": {
        "kernelspec": {
            "name": "python3",
            "display_name": "Python 3.7",
            "language": "python"
        },
        "language_info": {
            "name": "python",
            "version": "3.7.9",
            "mimetype": "text/x-python",
            "codemirror_mode": {
                "name": "ipython",
                "version": 3
            },
            "pygments_lexer": "ipython3",
            "nbconvert_exporter": "python",
            "file_extension": ".py"
        }
    },
    "nbformat": 4,
    "nbformat_minor": 1
}